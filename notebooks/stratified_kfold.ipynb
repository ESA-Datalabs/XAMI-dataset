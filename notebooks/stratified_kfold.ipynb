{
 "cells": [
  {
   "cell_type": "markdown",
   "id": "cc67a7a5-0208-476c-a8f0-c5e0fcc93191",
   "metadata": {},
   "source": [
    "# Stratified KFold for the OM dataset\n",
    "\n",
    "This code helps split a dataset in COCO format for Instance Segmentation given labels distributions across the dataset splits. The algorithm is used for preserving the samples percentages for each class in order to provide a smoother generalization and adress class imbalance. "
   ]
  },
  {
   "cell_type": "markdown",
   "id": "481721e0-f8f0-4dc5-82d9-a270a380af8f",
   "metadata": {},
   "source": [
    "## Setup"
   ]
  },
  {
   "cell_type": "code",
   "execution_count": 17,
   "id": "be577e28-a3be-4692-86b1-583950fee549",
   "metadata": {},
   "outputs": [],
   "source": [
    "import json\n",
    "from sklearn.model_selection import StratifiedKFold, KFold\n",
    "import numpy as np\n",
    "import os\n",
    "import sys\n",
    "\n",
    "sys.path.append('/workspace/raid/OM_DeepLearning/XAMI-dataset/')\n",
    "\n",
    "import xami_utils\n",
    "from xami_utils import utils"
   ]
  },
  {
   "cell_type": "markdown",
   "id": "05ac0285-580f-4329-a387-1bf096a13896",
   "metadata": {},
   "source": [
    "## Load the dataset\n",
    "\n",
    "This section assumes that the images and the annotation file are in a single directory."
   ]
  },
  {
   "cell_type": "code",
   "execution_count": 5,
   "id": "b73f1b80-bbfb-4322-9707-bf511e1eab67",
   "metadata": {},
   "outputs": [
    {
     "data": {
      "text/plain": [
       "[{'id': 0, 'name': 'central-ring', 'supercategory': 'artefact'},\n",
       " {'id': 1, 'name': 'other', 'supercategory': 'artefacts'},\n",
       " {'id': 2, 'name': 'read-out-streak', 'supercategory': 'artefacts'},\n",
       " {'id': 3, 'name': 'smoke-ring', 'supercategory': 'artefacts'},\n",
       " {'id': 4, 'name': 'star-loop', 'supercategory': 'artefacts'}]"
      ]
     },
     "execution_count": 5,
     "metadata": {},
     "output_type": "execute_result"
    }
   ],
   "source": [
    "dataset_path = './xmm_om_artefacts_512-38-COCO/train/'\n",
    "json_file_path = dataset_path+'_annotations.coco.json'\n",
    "\n",
    "with open(json_file_path) as f:\n",
    "    data_in = json.load(f)\n",
    "data_in['categories']"
   ]
  },
  {
   "cell_type": "markdown",
   "id": "1200ab55-ec86-4614-b737-643afec87e0a",
   "metadata": {},
   "source": [
    "## Stratified KFold"
   ]
  },
  {
   "cell_type": "code",
   "execution_count": 6,
   "id": "02cabcf6-4cc9-4f8c-8f44-4d373872cb90",
   "metadata": {
    "scrolled": true
   },
   "outputs": [],
   "source": [
    "images, labels = [], []\n",
    "\n",
    "for k in range(len(data_in['images'])):\n",
    "    img_id = data_in['images'][k]['id']\n",
    "    annotations = [data_in['annotations'][j] for j in range(len(data_in['annotations'])) if data_in['annotations'][j]['image_id'] == img_id]\n",
    "    categories = set(str(annot['category_id']) for annot in annotations)\n",
    "    images.append([img_id])\n",
    "    labels.append(''.join(list(categories)))\n",
    "        \n",
    "images, labels = np.array(images), np.array(labels)"
   ]
  },
  {
   "cell_type": "code",
   "execution_count": 7,
   "id": "33e172b7-2f6e-4353-ba9e-6f9d5d1afd69",
   "metadata": {
    "scrolled": true
   },
   "outputs": [
    {
     "data": {
      "text/plain": [
       "(26,)"
      ]
     },
     "execution_count": 7,
     "metadata": {},
     "output_type": "execute_result"
    }
   ],
   "source": [
    "np.unique(labels).shape"
   ]
  },
  {
   "cell_type": "markdown",
   "id": "bcd80d21-0b2a-46f5-b454-ec76a50ece13",
   "metadata": {},
   "source": [
    "The resulting arrays' size equals to the number of annotations because image ids are repeated for each label associated with them."
   ]
  },
  {
   "cell_type": "code",
   "execution_count": 8,
   "id": "18dd4486-cae8-4a04-957b-9be1ae87d4d3",
   "metadata": {},
   "outputs": [
    {
     "data": {
      "text/plain": [
       "((1055, 1), (1055,))"
      ]
     },
     "execution_count": 8,
     "metadata": {},
     "output_type": "execute_result"
    }
   ],
   "source": [
    "images.shape, labels.shape"
   ]
  },
  {
   "cell_type": "markdown",
   "id": "39fac921-4672-447e-87d1-dc41037ac5f2",
   "metadata": {},
   "source": [
    "Run the Stratified KFold split and generate train and valid datasets given the number of splits. \n",
    "\n",
    "The split percentage is calculated depending on the `n_splits` parameter:\n",
    "\n",
    "> train_percentage = int(100 * 1/n_splits)\n",
    ">\n",
    "> valid_percentage = 100 - train_percentage"
   ]
  },
  {
   "cell_type": "code",
   "execution_count": 9,
   "id": "b572c3f9-0e9a-43ff-a77b-fcb0712e893e",
   "metadata": {
    "scrolled": true
   },
   "outputs": [
    {
     "name": "stderr",
     "output_type": "stream",
     "text": [
      "The least populated class in y has only 1 members, which is less than n_splits=4.\n"
     ]
    }
   ],
   "source": [
    "skf_image_ids, skf_labels, kf_image_ids, kf_labels = {}, {}, {}, {}\n",
    "\n",
    "n_splits = 4\n",
    "skf = StratifiedKFold(n_splits=n_splits, shuffle=True, random_state=42)\n",
    "kf = KFold(n_splits=n_splits, shuffle=True, random_state=42)\n",
    "# skf = MultilabelStratifiedKFold(n_splits=n_splits, shuffle=True, random_state=0)\n",
    "\n",
    "for i, (train_index, valid_index) in enumerate(skf.split(images, labels)):\n",
    "    skf_image_ids[i] = {'train': images[train_index], 'valid': images[valid_index]}\n",
    "    skf_labels[i] = {'train': labels[train_index], 'valid': labels[valid_index]}\n",
    "\n",
    "for i, (train_index, valid_index) in enumerate(kf.split(images, labels)):\n",
    "    kf_image_ids[i] = {'train': images[train_index], 'valid': images[valid_index]}\n",
    "    kf_labels[i] = {'train': labels[train_index], 'valid': labels[valid_index]}"
   ]
  },
  {
   "cell_type": "code",
   "execution_count": 10,
   "id": "8f2cf6ca-b6e4-4c35-8a9c-b37b7c07c288",
   "metadata": {},
   "outputs": [
    {
     "data": {
      "text/plain": [
       "(792, 263)"
      ]
     },
     "execution_count": 10,
     "metadata": {},
     "output_type": "execute_result"
    }
   ],
   "source": [
    "len(train_index), len(valid_index)"
   ]
  },
  {
   "cell_type": "code",
   "execution_count": 11,
   "id": "c522ef0b-b05a-4094-87ec-e9621d1558d3",
   "metadata": {
    "scrolled": true
   },
   "outputs": [
    {
     "data": {
      "text/plain": [
       "(4, 'splits')"
      ]
     },
     "execution_count": 11,
     "metadata": {},
     "output_type": "execute_result"
    }
   ],
   "source": [
    "len(skf_image_ids), 'splits'"
   ]
  },
  {
   "cell_type": "markdown",
   "id": "5349dca5-6f45-4df6-a105-2d5e9b43d16c",
   "metadata": {},
   "source": [
    "**Ensure that there are no image ids present in both splits.**"
   ]
  },
  {
   "cell_type": "code",
   "execution_count": 12,
   "id": "0ccd44a3-1992-405c-a036-e9bc4ec214ac",
   "metadata": {
    "scrolled": true
   },
   "outputs": [
    {
     "name": "stdout",
     "output_type": "stream",
     "text": [
      "intersection 0\n",
      "intersection 0\n",
      "intersection 0\n",
      "intersection 0\n"
     ]
    }
   ],
   "source": [
    "for i in range(n_splits):\n",
    "    print(\"intersection\", len(np.intersect1d(skf_image_ids[i]['train'], skf_image_ids[i]['valid'])))"
   ]
  },
  {
   "cell_type": "markdown",
   "id": "a4fc6386-22ed-4c6d-b088-a9def54c5b97",
   "metadata": {},
   "source": [
    "**Ensure that the labels distribution is roughly the same between splits.**"
   ]
  },
  {
   "cell_type": "code",
   "execution_count": 18,
   "id": "7c807bfb-dfce-42b3-b47a-7c77af573639",
   "metadata": {
    "scrolled": true
   },
   "outputs": [
    {
     "data": {
      "text/plain": [
       "{0: {'train': {'0': 0.25510204081632654,\n",
       "   '1': 0.00816326530612245,\n",
       "   '2': 0.24846938775510205,\n",
       "   '3': 0.21989795918367347,\n",
       "   '4': 0.2683673469387755,\n",
       "   '5': 0.0},\n",
       "  'valid': {'0': 0.2553191489361702,\n",
       "   '1': 0.007598784194528876,\n",
       "   '2': 0.24924012158054712,\n",
       "   '3': 0.22036474164133737,\n",
       "   '4': 0.2674772036474164,\n",
       "   '5': 0.0}},\n",
       " 1: {'train': {'0': 0.25558943089430897,\n",
       "   '1': 0.008130081300813009,\n",
       "   '2': 0.24898373983739838,\n",
       "   '3': 0.21951219512195122,\n",
       "   '4': 0.26778455284552843,\n",
       "   '5': 0.0},\n",
       "  'valid': {'0': 0.25384615384615383,\n",
       "   '1': 0.007692307692307693,\n",
       "   '2': 0.24769230769230768,\n",
       "   '3': 0.22153846153846155,\n",
       "   '4': 0.2692307692307692,\n",
       "   '5': 0.0}},\n",
       " 2: {'train': {'0': 0.25472179683512,\n",
       "   '1': 0.007656967840735069,\n",
       "   '2': 0.24859622256253192,\n",
       "   '3': 0.22052067381316998,\n",
       "   '4': 0.2685043389484431,\n",
       "   '5': 0.0},\n",
       "  'valid': {'0': 0.2564491654021244,\n",
       "   '1': 0.009104704097116844,\n",
       "   '2': 0.2488619119878604,\n",
       "   '3': 0.21851289833080426,\n",
       "   '4': 0.26707132018209406,\n",
       "   '5': 0.0}},\n",
       " 3: {'train': {'0': 0.25521098118962887,\n",
       "   '1': 0.00813421453990849,\n",
       "   '2': 0.24860193187595322,\n",
       "   '3': 0.22013218098627352,\n",
       "   '4': 0.2679206914082359,\n",
       "   '5': 0.0},\n",
       "  'valid': {'0': 0.25499231950844853,\n",
       "   '1': 0.007680491551459293,\n",
       "   '2': 0.2488479262672811,\n",
       "   '3': 0.2196620583717358,\n",
       "   '4': 0.26881720430107525,\n",
       "   '5': 0.0}}}"
      ]
     },
     "execution_count": 18,
     "metadata": {},
     "output_type": "execute_result"
    }
   ],
   "source": [
    "labels_percentages_skf = utils.percentages(n_splits, skf_image_ids, skf_labels)\n",
    "labels_percentages_kf = utils.percentages(n_splits, kf_image_ids, kf_labels)\n",
    "labels_percentages_skf"
   ]
  },
  {
   "cell_type": "code",
   "execution_count": 19,
   "id": "cc0d1c3b-9309-4bf6-aa54-53a29ea70ca4",
   "metadata": {
    "scrolled": true
   },
   "outputs": [
    {
     "data": {
      "text/plain": [
       "{0: {'train': {'0': 0.25673614641586173,\n",
       "   '1': 0.007625826131164209,\n",
       "   '2': 0.2470767666497204,\n",
       "   '3': 0.21962379257752923,\n",
       "   '4': 0.26893746822572445,\n",
       "   '5': 0.0},\n",
       "  'valid': {'0': 0.250384024577573,\n",
       "   '1': 0.009216589861751152,\n",
       "   '2': 0.2534562211981567,\n",
       "   '3': 0.22119815668202766,\n",
       "   '4': 0.26574500768049153,\n",
       "   '5': 0.0}},\n",
       " 1: {'train': {'0': 0.2530737704918033,\n",
       "   '1': 0.007172131147540984,\n",
       "   '2': 0.2489754098360656,\n",
       "   '3': 0.2192622950819672,\n",
       "   '4': 0.27151639344262296,\n",
       "   '5': 0.0},\n",
       "  'valid': {'0': 0.26126126126126126,\n",
       "   '1': 0.010510510510510511,\n",
       "   '2': 0.24774774774774774,\n",
       "   '3': 0.2222222222222222,\n",
       "   '4': 0.25825825825825827,\n",
       "   '5': 0.0}},\n",
       " 2: {'train': {'0': 0.2570404505888377,\n",
       "   '1': 0.00819252432155658,\n",
       "   '2': 0.2488479262672811,\n",
       "   '3': 0.22171018945212492,\n",
       "   '4': 0.2642089093701997,\n",
       "   '5': 0.0},\n",
       "  'valid': {'0': 0.24962406015037594,\n",
       "   '1': 0.007518796992481203,\n",
       "   '2': 0.24812030075187969,\n",
       "   '3': 0.21503759398496242,\n",
       "   '4': 0.2796992481203007,\n",
       "   '5': 0.0}},\n",
       " 3: {'train': {'0': 0.2537840565085772,\n",
       "   '1': 0.009081735620585268,\n",
       "   '2': 0.24974772956609487,\n",
       "   '3': 0.2194752774974773,\n",
       "   '4': 0.2679112008072654,\n",
       "   '5': 0.0},\n",
       "  'valid': {'0': 0.25943396226415094,\n",
       "   '1': 0.0047169811320754715,\n",
       "   '2': 0.24528301886792453,\n",
       "   '3': 0.22169811320754718,\n",
       "   '4': 0.2688679245283019,\n",
       "   '5': 0.0}}}"
      ]
     },
     "execution_count": 19,
     "metadata": {},
     "output_type": "execute_result"
    }
   ],
   "source": [
    "labels_percentages_kf"
   ]
  },
  {
   "cell_type": "code",
   "execution_count": 21,
   "id": "fa174ab0-e461-481f-92f3-06ba8c3ebb68",
   "metadata": {
    "scrolled": true
   },
   "outputs": [
    {
     "data": {
      "image/png": "[encoded data removed]",
      "text/plain": [
       "<Figure size 640x480 with 1 Axes>"
      ]
     },
     "metadata": {},
     "output_type": "display_data"
    }
   ],
   "source": [
    "import matplotlib.pyplot as plt\n",
    "\n",
    "results = labels_percentages_kf\n",
    "results_skf = labels_percentages_skf\n",
    "\n",
    "colors = ['#89D8CD', '#9F156480', '#FFBCF880', '#FFBCF880', '#FFBCF880']\n",
    "\n",
    "label_diffs = {i: {label: abs(results[i]['train'][label] - results[i]['valid'][label])\n",
    "                   for label in results[i]['train']} for i in results}\n",
    "label_diffs_skf = {i: {label: abs(results_skf[i]['train'][label] - results_skf[i]['valid'][label])\n",
    "                   for label in results_skf[i]['train']} for i in results_skf}\n",
    "\n",
    "diff_array = np.array([[label_diffs[iteration][label] for label in sorted(label_diffs[iteration])]\n",
    "                       for iteration in sorted(label_diffs)])\n",
    "mean_array = np.array([np.mean(diff_array[i, :]) for i in range(diff_array.shape[0])])\n",
    "\n",
    "diff_array_skf = np.array([[label_diffs_skf[iteration][label] for label in sorted(label_diffs_skf[iteration])]\n",
    "                       for iteration in sorted(label_diffs_skf)])\n",
    "mean_array_skf = np.array([np.mean(diff_array_skf[i, :]) for i in range(diff_array_skf.shape[0])])\n",
    "\n",
    "indices = np.arange(len(mean_array))\n",
    "\n",
    "# bar width\n",
    "width = 0.3\n",
    "\n",
    "fig, ax = plt.subplots()\n",
    "bars1 = ax.bar(indices - width/2, mean_array, width, label='K-fold', color='#C16FA3')\n",
    "bars2 = ax.bar(indices + width/2, mean_array_skf, width, label='Stratified K-fold', color='skyblue')\n",
    "\n",
    "plt.xlabel('k', fontsize=14)\n",
    "plt.ylabel('Mean difference (Train - Valid)', fontsize=14)\n",
    "ax.set_xticks(indices)\n",
    "ax.set_xticklabels([str(i) for i in indices])\n",
    "ax.legend()\n",
    "plt.savefig('../plots/kf_skf_errors.png', dpi=400)\n",
    "plt.show()"
   ]
  },
  {
   "cell_type": "markdown",
   "id": "302a2fa4-3b51-4714-b3ee-1a02d27d718a",
   "metadata": {},
   "source": [
    "# Generate CSV files with new splits\n",
    "\n",
    "For optimization, we organise the dataset into CSV files which can be later used for generating split directories, given the original dataset direcory. There will be *k* such CSV files. \n",
    "\n",
    "In principle, one can use a single split, but for a better understanding of the model's performance, running model for multiple k folds and averaging results is a better approach. "
   ]
  },
  {
   "cell_type": "code",
   "execution_count": 22,
   "id": "732df84b-f3aa-4264-ad5c-cc500fb02c4d",
   "metadata": {
    "scrolled": true
   },
   "outputs": [],
   "source": [
    "import csv\n",
    "\n",
    "def write_csv(skf_image_ids):\n",
    "    for mskf in skf_image_ids.keys():\n",
    "        with open(f'mskf_{mskf}.csv', 'w', newline='') as csvfile:\n",
    "            fieldnames = ['IMADE_ID', 'IMAGE_PATH', 'SPLIT']\n",
    "            writer = csv.DictWriter(csvfile, fieldnames=fieldnames)\n",
    "            writer.writeheader()\n",
    "            for split in skf_image_ids[mskf].keys():\n",
    "                for image in skf_image_ids[mskf][split]:\n",
    "                    image_id = image[0]\n",
    "                    filename = data_in['images'][image_id]['file_name']\n",
    "                    writer.writerow({\n",
    "                        'IMADE_ID': image_id,\n",
    "                        'IMAGE_PATH': os.path.join(dataset_path, filename),\n",
    "                        'SPLIT': split\n",
    "                    })\n",
    "\n",
    "write_csv(skf_image_ids)"
   ]
  },
  {
   "cell_type": "code",
   "execution_count": 23,
   "id": "3169fa9f-1532-4733-b489-7c9b458cd956",
   "metadata": {
    "scrolled": true
   },
   "outputs": [
    {
     "name": "stdout",
     "output_type": "stream",
     "text": [
      "Dataset split for mskf_0 was successful.\n",
      "Dataset split for mskf_1 was successful.\n",
      "Dataset split for mskf_2 was successful.\n",
      "Dataset split for mskf_3 was successful.\n"
     ]
    }
   ],
   "source": [
    "import pandas as pd\n",
    "\n",
    "# Generate split directories (COCO Instance Segmentation format)\n",
    "csv_files = ['mskf_0.csv', 'mskf_1.csv', 'mskf_2.csv', 'mskf_3.csv'] \n",
    "\n",
    "for idx, csv_file in enumerate(csv_files):\n",
    "    mskf = pd.read_csv(csv_file)\n",
    "    utils.create_directories_and_copy_files('.', data_in, mskf, idx)"
   ]
  },
  {
   "cell_type": "markdown",
   "id": "d190a8b4-6853-4d67-9b7e-782b5a90ec9d",
   "metadata": {},
   "source": [
    "# Convert COCO annotations to YOLO segmentation (Optional)"
   ]
  },
  {
   "cell_type": "code",
   "execution_count": 24,
   "id": "1cdb899b-9511-402f-801d-8c172792f3bc",
   "metadata": {
    "scrolled": true
   },
   "outputs": [
    {
     "name": "stdout",
     "output_type": "stream",
     "text": [
      "Processed 791 files.\n",
      "Processed 264 files.\n",
      "YAML file ./mskf_YOLO_0/data.yaml created and saved.\n",
      "Processed 791 files.\n",
      "Processed 264 files.\n",
      "YAML file ./mskf_YOLO_1/data.yaml created and saved.\n",
      "Processed 791 files.\n",
      "Processed 264 files.\n",
      "YAML file ./mskf_YOLO_2/data.yaml created and saved.\n",
      "Processed 792 files.\n",
      "Processed 263 files.\n",
      "YAML file ./mskf_YOLO_3/data.yaml created and saved.\n"
     ]
    }
   ],
   "source": [
    "# TODO: convert to YOLO segm, not bbox only\n",
    "from xami_utils import coco_to_yolo_converter\n",
    "import yaml \n",
    "\n",
    "convert = True\n",
    "\n",
    "if convert:\n",
    "\n",
    "    classes = [str(cat['name']) for cat in data_in['categories'] if 'artefacts' not in cat['name']]\n",
    "    absolute_path = '/workspace/raid/OM_DeepLearning/XAMI-dataset/notebooks/xmm_om_artefacts_512-38-COCO/'\n",
    "    for iter in range(n_splits):\n",
    "        for mode in ['train', 'valid']:\n",
    "            \n",
    "            input_path = f\"./mskf_{iter}/{mode}\"\n",
    "\n",
    "            # adding '/' at the end will give an error for the parent directory\n",
    "            output_path = f\"./mskf_YOLO_{iter}/{mode}\"\n",
    "            input_json_train = f\"_annotations.coco.json\"\n",
    "            converter = coco_to_yolo_converter.COCOToYOLOConverter(input_path, output_path, input_json_train, plot_yolo_masks=False)\n",
    "            converter.convert()\n",
    "            \n",
    "            # generate data.yaml\n",
    "            yaml_path = os.path.dirname(output_path)+f'/data.yaml'\n",
    "\n",
    "            if mode =='valid': # train and valid folder successfully created\n",
    "                yolo_data = {\n",
    "                    'names': classes,\n",
    "                    'nc': len(classes),\n",
    "                    'train': f'{os.path.join(absolute_path, os.path.dirname(output_path)).replace(\".\", \"\").replace(\"//\", \"/\")}/train/images',\n",
    "                    'val': f'{os.path.join(absolute_path, os.path.dirname(output_path)).replace(\".\", \"\").replace(\"//\", \"/\")}/valid/images'\n",
    "                }\n",
    "                \n",
    "                # Write the data to a YAML file\n",
    "                with open(yaml_path, 'w') as file:\n",
    "                    yaml.dump(yolo_data, file, default_flow_style=False)\n",
    "                \n",
    "                print(f\"YAML file {yaml_path} created and saved.\")"
   ]
  },
  {
   "cell_type": "markdown",
   "id": "1e0092b6-83ca-43de-86c3-e4e5be915020",
   "metadata": {},
   "source": [
    "### Check generated images and annotations"
   ]
  },
  {
   "cell_type": "code",
   "execution_count": null,
   "id": "8977e0ab-c72d-4d1e-b93d-464ecc25beb0",
   "metadata": {},
   "outputs": [],
   "source": [
    "# Some sanity check"
   ]
  },
  {
   "cell_type": "code",
   "execution_count": null,
   "id": "809701da-a74e-4b82-8062-f3a6ac7ee6d8",
   "metadata": {
    "scrolled": true
   },
   "outputs": [],
   "source": [
    "category_mapping = { 0:('central-ring', (1,252,214)), \n",
    "            1:('other', (255,128,1)),\n",
    "            2:('read-out-streak', (20, 77, 158)), \n",
    "            3:('smoke-ring', (159,21,100)),\n",
    "            4:('star-loop', (255, 188, 248))}\n",
    "\n",
    "dataset_dir = './mskf_YOLO_0/train/'\n",
    "for filename in os.listdir(dataset_dir+'images/'):\n",
    "    print(filename)\n",
    "    image_path = dataset_dir+'images/'+filename\n",
    "    annotation_file = dataset_dir+'labels/'+filename.replace(\".jpg\", '.txt')\n",
    "    annotations = utils.read_yolo_annotations(annotation_file)\n",
    "    utils.plot_yolo_segmentations(image_path, annotations, category_mapping)"
   ]
  },
  {
   "cell_type": "code",
   "execution_count": null,
   "id": "82c2fb55-f3bd-4766-b05e-850424257a64",
   "metadata": {},
   "outputs": [],
   "source": [
    "with open('./mskf_0/train/_annotations.coco.json') as f:\n",
    "    data_0 = json.load(f)\n",
    "with open('./mskf_1/train/_annotations.coco.json') as f:\n",
    "    data_1 = json.load(f)\n",
    "with open('./mskf_2/train/_annotations.coco.json') as f:\n",
    "    data_2 = json.load(f)\n",
    "with open('./mskf_3/train/_annotations.coco.json') as f:\n",
    "    data_3 = json.load(f)"
   ]
  },
  {
   "cell_type": "code",
   "execution_count": null,
   "id": "a6da0d6a-3872-4407-bf63-765b3f3dbccc",
   "metadata": {
    "scrolled": true
   },
   "outputs": [],
   "source": [
    "[i for i in range(len(skf_image_ids[0]['train'])) if skf_image_ids[0]['train'][i] - [image['id'] for image in data_0['images']][i] != 0]"
   ]
  },
  {
   "cell_type": "code",
   "execution_count": null,
   "id": "be32e277-b8ec-4110-a01c-78a0b30ba2aa",
   "metadata": {
    "scrolled": true
   },
   "outputs": [],
   "source": [
    "[i for i in range(len(skf_image_ids[1]['train'])) if skf_image_ids[1]['train'][i] - [image['id'] for image in data_1['images']][i] != 0]"
   ]
  },
  {
   "cell_type": "code",
   "execution_count": null,
   "id": "92dbc017-764f-411a-94e4-7a0c92989046",
   "metadata": {
    "scrolled": true
   },
   "outputs": [],
   "source": [
    "[i for i in range(len(skf_image_ids[2]['train'])) if skf_image_ids[2]['train'][i] - [image['id'] for image in data_2['images']][i] != 0]"
   ]
  },
  {
   "cell_type": "code",
   "execution_count": null,
   "id": "3433e405-9b0d-483b-8c54-eb6989f6845c",
   "metadata": {
    "scrolled": true
   },
   "outputs": [],
   "source": [
    "[i for i in range(len(skf_image_ids[3]['train'])) if skf_image_ids[3]['train'][i] - [image['id'] for image in data_3['images']][i] != 0]"
   ]
  },
  {
   "cell_type": "code",
   "execution_count": null,
   "id": "6d0ca5f0-e522-4910-abe0-eae23fe96568",
   "metadata": {},
   "outputs": [],
   "source": []
  }
 ],
 "metadata": {
  "kernelspec": {
   "display_name": "Python 3 (ipykernel)",
   "language": "python",
   "name": "python3"
  },
  "language_info": {
   "codemirror_mode": {
    "name": "ipython",
    "version": 3
   },
   "file_extension": ".py",
   "mimetype": "text/x-python",
   "name": "python",
   "nbconvert_exporter": "python",
   "pygments_lexer": "ipython3",
   "version": "3.11.7"
  },
  "widgets": {
   "application/vnd.jupyter.widget-state+json": {
    "state": {},
    "version_major": 2,
    "version_minor": 0
   }
  }
 },
 "nbformat": 4,
 "nbformat_minor": 5
}
