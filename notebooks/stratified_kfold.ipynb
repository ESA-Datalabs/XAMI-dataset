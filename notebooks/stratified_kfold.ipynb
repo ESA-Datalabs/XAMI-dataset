version https://git-lfs.github.com/spec/v1
oid sha256:b615e9e1e0878a7faef11733578ae1f8b3431c25563dfd16147bb7f87225796e
size 48874
