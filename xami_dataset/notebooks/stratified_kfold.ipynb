{
 "cells": [
  {
   "cell_type": "markdown",
   "id": "cc67a7a5-0208-476c-a8f0-c5e0fcc93191",
   "metadata": {},
   "source": [
    "# Stratified KFold for the OM dataset\n",
    "\n",
    "This code helps split a dataset in COCO format for Instance Segmentation given labels distributions across the dataset splits. The algorithm is used for preserving the samples percentages for each class in order to provide a smoother generalization and adress class imbalance. "
   ]
  },
  {
   "cell_type": "markdown",
   "id": "481721e0-f8f0-4dc5-82d9-a270a380af8f",
   "metadata": {},
   "source": [
    "## Setup"
   ]
  },
  {
   "cell_type": "code",
   "execution_count": 1,
   "id": "be577e28-a3be-4692-86b1-583950fee549",
   "metadata": {},
   "outputs": [],
   "source": [
    "import json\n",
    "from sklearn.model_selection import StratifiedKFold, KFold\n",
    "import numpy as np\n",
    "import os\n",
    "import sys"
   ]
  },
  {
   "cell_type": "markdown",
   "id": "05ac0285-580f-4329-a387-1bf096a13896",
   "metadata": {},
   "source": [
    "## Load the dataset"
   ]
  },
  {
   "cell_type": "code",
   "execution_count": 17,
   "id": "70f45b71-ad48-409a-9fa1-333db9a24eba",
   "metadata": {},
   "outputs": [
    {
     "data": {
      "application/vnd.jupyter.widget-view+json": {
       "model_id": "76705c47b7fd48f8915970a51331ca96",
       "version_major": 2,
       "version_minor": 0
      },
      "text/plain": [
       "xami_dataset_no_splits.zip:   0%|          | 0.00/50.5M [00:00<?, ?B/s]"
      ]
     },
     "metadata": {},
     "output_type": "display_data"
    }
   ],
   "source": [
    "from huggingface_hub import hf_hub_download\n",
    "import zipfile\n",
    "\n",
    "dataset_path = '../../' # destination folder for the dataset\n",
    "dataset_name = 'xami_dataset_no_splits' # name of the dataset on huggingface\n",
    "\n",
    "# download the dataset from HuggingFace\n",
    "hf_hub_download(\n",
    "\t\t\trepo_id=\"iulia-elisa/XAMI-dataset\",\n",
    "\t\t\trepo_type='dataset',\n",
    "\t\t\tfilename=dataset_name+'.zip',\n",
    "\t\t\tlocal_dir=dataset_path\n",
    "\t\t)\n",
    "\n",
    "# unzip\n",
    "zip_path = os.path.join(dataset_path, dataset_name + '.zip')\n",
    "with zipfile.ZipFile(zip_path, 'r') as zip_ref:\n",
    "\tzip_ref.extractall(dataset_path)\n",
    "\n",
    "os.remove(zip_path)"
   ]
  },
  {
   "cell_type": "code",
   "execution_count": 3,
   "id": "b73f1b80-bbfb-4322-9707-bf511e1eab67",
   "metadata": {},
   "outputs": [
    {
     "data": {
      "text/plain": [
       "[{'id': 0, 'name': 'artefacts', 'supercategory': 'none'},\n",
       " {'id': 1, 'name': 'central-ring', 'supercategory': 'artefacts'},\n",
       " {'id': 2, 'name': 'other', 'supercategory': 'artefacts'},\n",
       " {'id': 3, 'name': 'read-out-streak', 'supercategory': 'artefacts'},\n",
       " {'id': 4, 'name': 'smoke-ring', 'supercategory': 'artefacts'},\n",
       " {'id': 5, 'name': 'star-loop', 'supercategory': 'artefacts'}]"
      ]
     },
     "execution_count": 3,
     "metadata": {},
     "output_type": "execute_result"
    }
   ],
   "source": [
    "json_file_path = os.path.join(dataset_path, dataset_name, 'data/_annotations.coco.json')\n",
    "\n",
    "with open(json_file_path) as f:\n",
    "    data_in = json.load(f)\n",
    "data_in['categories']"
   ]
  },
  {
   "cell_type": "code",
   "execution_count": 4,
   "id": "5aa3ad8d-46e9-48f0-bf5b-905662895e8a",
   "metadata": {},
   "outputs": [
    {
     "data": {
      "text/plain": [
       "'../xami_dataset_no_splits/data/_annotations.coco.json'"
      ]
     },
     "execution_count": 4,
     "metadata": {},
     "output_type": "execute_result"
    }
   ],
   "source": [
    "json_file_path"
   ]
  },
  {
   "cell_type": "code",
   "execution_count": 5,
   "id": "03087cf2",
   "metadata": {},
   "outputs": [
    {
     "data": {
      "text/plain": [
       "(1055, 7021)"
      ]
     },
     "execution_count": 5,
     "metadata": {},
     "output_type": "execute_result"
    }
   ],
   "source": [
    "len(data_in['images']), len(data_in['annotations'])"
   ]
  },
  {
   "cell_type": "markdown",
   "id": "1200ab55-ec86-4614-b737-643afec87e0a",
   "metadata": {},
   "source": [
    "## Stratified KFold"
   ]
  },
  {
   "cell_type": "code",
   "execution_count": 6,
   "id": "02cabcf6-4cc9-4f8c-8f44-4d373872cb90",
   "metadata": {
    "scrolled": true
   },
   "outputs": [],
   "source": [
    "images, labels = [], []\n",
    "\n",
    "for k in range(len(data_in['images'])):\n",
    "    img_id = data_in['images'][k]['id']\n",
    "    annotations = [data_in['annotations'][j] for j in range(len(data_in['annotations'])) if data_in['annotations'][j]['image_id'] == img_id]\n",
    "    categories = sorted(set(str(annot['category_id']) for annot in annotations))\n",
    "    images.append([img_id])\n",
    "    labels.append(''.join(list(categories)))\n",
    "        \n",
    "images, labels = np.array(images), np.array(labels)"
   ]
  },
  {
   "cell_type": "code",
   "execution_count": 7,
   "id": "33e172b7-2f6e-4353-ba9e-6f9d5d1afd69",
   "metadata": {
    "scrolled": true
   },
   "outputs": [
    {
     "data": {
      "text/plain": [
       "(25,)"
      ]
     },
     "execution_count": 7,
     "metadata": {},
     "output_type": "execute_result"
    }
   ],
   "source": [
    "np.unique(labels).shape"
   ]
  },
  {
   "cell_type": "code",
   "execution_count": 8,
   "id": "e75fa2e0-be6d-4d39-94ba-5b8900ab9280",
   "metadata": {},
   "outputs": [
    {
     "data": {
      "text/plain": [
       "array(['', '1', '1234', '12345', '124', '125', '13', '134', '1345', '135',\n",
       "       '14', '145', '15', '2', '23', '234', '2345', '25', '3', '34',\n",
       "       '345', '35', '4', '45', '5'], dtype='<U5')"
      ]
     },
     "execution_count": 8,
     "metadata": {},
     "output_type": "execute_result"
    }
   ],
   "source": [
    "np.unique(labels)"
   ]
  },
  {
   "cell_type": "markdown",
   "id": "bcd80d21-0b2a-46f5-b454-ec76a50ece13",
   "metadata": {},
   "source": [
    "The resulting arrays' size equals to the number of annotations because image ids are repeated for each label associated with them."
   ]
  },
  {
   "cell_type": "code",
   "execution_count": 9,
   "id": "18dd4486-cae8-4a04-957b-9be1ae87d4d3",
   "metadata": {},
   "outputs": [
    {
     "data": {
      "text/plain": [
       "((1055, 1), (1055,))"
      ]
     },
     "execution_count": 9,
     "metadata": {},
     "output_type": "execute_result"
    }
   ],
   "source": [
    "images.shape, labels.shape"
   ]
  },
  {
   "cell_type": "markdown",
   "id": "39fac921-4672-447e-87d1-dc41037ac5f2",
   "metadata": {},
   "source": [
    "Run the Stratified KFold split and generate train and valid datasets given the number of splits. \n",
    "\n",
    "The split percentage is calculated depending on the `n_splits` parameter:\n",
    "\n",
    "> train_percentage = int(100 * 1/n_splits)\n",
    ">\n",
    "> valid_percentage = 100 - train_percentage"
   ]
  },
  {
   "cell_type": "code",
   "execution_count": 10,
   "id": "b572c3f9-0e9a-43ff-a77b-fcb0712e893e",
   "metadata": {
    "scrolled": true
   },
   "outputs": [
    {
     "name": "stderr",
     "output_type": "stream",
     "text": [
      "/opt/conda/envs/xami_model_env_2/lib/python3.12/site-packages/sklearn/model_selection/_split.py:776: UserWarning: The least populated class in y has only 1 members, which is less than n_splits=4.\n",
      "  warnings.warn(\n"
     ]
    }
   ],
   "source": [
    "skf_image_ids, skf_labels, kf_image_ids, kf_labels = {}, {}, {}, {}\n",
    "\n",
    "n_splits = 4\n",
    "skf = StratifiedKFold(n_splits=n_splits, shuffle=True, random_state=42)\n",
    "kf = KFold(n_splits=n_splits, shuffle=True, random_state=42)\n",
    "# skf = MultilabelStratifiedKFold(n_splits=n_splits, shuffle=True, random_state=0)\n",
    "\n",
    "for i, (train_index, valid_index) in enumerate(skf.split(images, labels)):\n",
    "    skf_image_ids[i] = {'train': images[train_index], 'valid': images[valid_index]}\n",
    "    skf_labels[i] = {'train': labels[train_index], 'valid': labels[valid_index]}\n",
    "\n",
    "for i, (train_index, valid_index) in enumerate(kf.split(images, labels)):\n",
    "    kf_image_ids[i] = {'train': images[train_index], 'valid': images[valid_index]}\n",
    "    kf_labels[i] = {'train': labels[train_index], 'valid': labels[valid_index]}"
   ]
  },
  {
   "cell_type": "code",
   "execution_count": 11,
   "id": "8f2cf6ca-b6e4-4c35-8a9c-b37b7c07c288",
   "metadata": {},
   "outputs": [
    {
     "data": {
      "text/plain": [
       "(792, 263)"
      ]
     },
     "execution_count": 11,
     "metadata": {},
     "output_type": "execute_result"
    }
   ],
   "source": [
    "len(train_index), len(valid_index)"
   ]
  },
  {
   "cell_type": "code",
   "execution_count": 12,
   "id": "c522ef0b-b05a-4094-87ec-e9621d1558d3",
   "metadata": {
    "scrolled": true
   },
   "outputs": [
    {
     "data": {
      "text/plain": [
       "(4, 'splits')"
      ]
     },
     "execution_count": 12,
     "metadata": {},
     "output_type": "execute_result"
    }
   ],
   "source": [
    "len(skf_image_ids), 'splits'"
   ]
  },
  {
   "cell_type": "markdown",
   "id": "5349dca5-6f45-4df6-a105-2d5e9b43d16c",
   "metadata": {},
   "source": [
    "**Ensure that there are no image ids present in both splits.**"
   ]
  },
  {
   "cell_type": "code",
   "execution_count": 13,
   "id": "0ccd44a3-1992-405c-a036-e9bc4ec214ac",
   "metadata": {
    "scrolled": true
   },
   "outputs": [
    {
     "name": "stdout",
     "output_type": "stream",
     "text": [
      "intersection 0\n",
      "intersection 0\n",
      "intersection 0\n",
      "intersection 0\n"
     ]
    }
   ],
   "source": [
    "for i in range(n_splits):\n",
    "    print(\"intersection\", len(np.intersect1d(skf_image_ids[i]['train'], skf_image_ids[i]['valid'])))"
   ]
  },
  {
   "cell_type": "markdown",
   "id": "a4fc6386-22ed-4c6d-b088-a9def54c5b97",
   "metadata": {},
   "source": [
    "**Ensure that the labels distribution is roughly the same between splits.**"
   ]
  },
  {
   "cell_type": "code",
   "execution_count": 14,
   "id": "7c807bfb-dfce-42b3-b47a-7c77af573639",
   "metadata": {
    "scrolled": true
   },
   "outputs": [
    {
     "data": {
      "text/plain": [
       "{0: {'train': {'0': 0.0,\n",
       "   '1': 0.2550813008130081,\n",
       "   '2': 0.008130081300813009,\n",
       "   '3': 0.24847560975609756,\n",
       "   '4': 0.22103658536585366,\n",
       "   '5': 0.26727642276422764},\n",
       "  'valid': {'0': 0.0,\n",
       "   '1': 0.2553846153846154,\n",
       "   '2': 0.007692307692307693,\n",
       "   '3': 0.24923076923076923,\n",
       "   '4': 0.2169230769230769,\n",
       "   '5': 0.27076923076923076}},\n",
       " 1: {'train': {'0': 0.0,\n",
       "   '1': 0.2561099796334012,\n",
       "   '2': 0.008146639511201629,\n",
       "   '3': 0.2484725050916497,\n",
       "   '4': 0.219959266802444,\n",
       "   '5': 0.26731160896130346},\n",
       "  'valid': {'0': 0.0,\n",
       "   '1': 0.25229357798165136,\n",
       "   '2': 0.00764525993883792,\n",
       "   '3': 0.2492354740061162,\n",
       "   '4': 0.22018348623853212,\n",
       "   '5': 0.2706422018348624}},\n",
       " 2: {'train': {'0': 0.0,\n",
       "   '1': 0.25447112927950943,\n",
       "   '2': 0.007664793050587634,\n",
       "   '3': 0.24936126724578436,\n",
       "   '4': 0.21921308124680633,\n",
       "   '5': 0.2692897291773122},\n",
       "  'valid': {'0': 0.0,\n",
       "   '1': 0.25718608169440244,\n",
       "   '2': 0.009077155824508321,\n",
       "   '3': 0.24659606656580937,\n",
       "   '4': 0.22239031770045387,\n",
       "   '5': 0.264750378214826}},\n",
       " 3: {'train': {'0': 0.0,\n",
       "   '1': 0.2549618320610687,\n",
       "   '2': 0.008142493638676845,\n",
       "   '3': 0.24834605597964376,\n",
       "   '4': 0.2198473282442748,\n",
       "   '5': 0.2687022900763359},\n",
       "  'valid': {'0': 0.0,\n",
       "   '1': 0.2557427258805513,\n",
       "   '2': 0.007656967840735069,\n",
       "   '3': 0.24961715160796324,\n",
       "   '4': 0.22052067381316998,\n",
       "   '5': 0.2664624808575804}}}"
      ]
     },
     "execution_count": 14,
     "metadata": {},
     "output_type": "execute_result"
    }
   ],
   "source": [
    "from xami_dataset.xami_utils import dataset_utils\n",
    "\n",
    "labels_percentages_skf = dataset_utils.percentages(n_splits, skf_image_ids, skf_labels)\n",
    "labels_percentages_kf = dataset_utils.percentages(n_splits, kf_image_ids, kf_labels)\n",
    "labels_percentages_skf"
   ]
  },
  {
   "cell_type": "code",
   "execution_count": 15,
   "id": "cc0d1c3b-9309-4bf6-aa54-53a29ea70ca4",
   "metadata": {
    "scrolled": true
   },
   "outputs": [
    {
     "data": {
      "text/plain": [
       "{0: {'train': {'0': 0.0,\n",
       "   '1': 0.2554067971163749,\n",
       "   '2': 0.007209062821833162,\n",
       "   '3': 0.2512873326467559,\n",
       "   '4': 0.2188465499485067,\n",
       "   '5': 0.26725025746652936},\n",
       "  'valid': {'0': 0.0,\n",
       "   '1': 0.25443786982248523,\n",
       "   '2': 0.010355029585798817,\n",
       "   '3': 0.2411242603550296,\n",
       "   '4': 0.22337278106508876,\n",
       "   '5': 0.27071005917159763}},\n",
       " 1: {'train': {'0': 0.0,\n",
       "   '1': 0.25599184089750127,\n",
       "   '2': 0.0071392146863844975,\n",
       "   '3': 0.24528301886792453,\n",
       "   '4': 0.2233554309026007,\n",
       "   '5': 0.268230494645589},\n",
       "  'valid': {'0': 0.0,\n",
       "   '1': 0.2526636225266362,\n",
       "   '2': 0.0106544901065449,\n",
       "   '3': 0.258751902587519,\n",
       "   '4': 0.2100456621004566,\n",
       "   '5': 0.2678843226788432}},\n",
       " 2: {'train': {'0': 0.0,\n",
       "   '1': 0.25814663951120165,\n",
       "   '2': 0.009164969450101833,\n",
       "   '3': 0.2494908350305499,\n",
       "   '4': 0.21690427698574338,\n",
       "   '5': 0.26629327902240324},\n",
       "  'valid': {'0': 0.0,\n",
       "   '1': 0.24617737003058104,\n",
       "   '2': 0.0045871559633027525,\n",
       "   '3': 0.24617737003058104,\n",
       "   '4': 0.22935779816513763,\n",
       "   '5': 0.27370030581039756}},\n",
       " 3: {'train': {'0': 0.0,\n",
       "   '1': 0.25113236034222447,\n",
       "   '2': 0.008555611474584801,\n",
       "   '3': 0.2486160040261701,\n",
       "   '4': 0.22093608454957223,\n",
       "   '5': 0.27075993960744843},\n",
       "  'valid': {'0': 0.0,\n",
       "   '1': 0.26782884310618066,\n",
       "   '2': 0.006339144215530904,\n",
       "   '3': 0.24881141045958796,\n",
       "   '4': 0.21711568938193343,\n",
       "   '5': 0.25990491283676703}}}"
      ]
     },
     "execution_count": 15,
     "metadata": {},
     "output_type": "execute_result"
    }
   ],
   "source": [
    "labels_percentages_kf"
   ]
  },
  {
   "cell_type": "code",
   "execution_count": 16,
   "id": "fa174ab0-e461-481f-92f3-06ba8c3ebb68",
   "metadata": {
    "scrolled": true
   },
   "outputs": [
    {
     "data": {
      "image/png": "[encoded data removed]",
      "text/plain": [
       "<Figure size 640x480 with 1 Axes>"
      ]
     },
     "metadata": {},
     "output_type": "display_data"
    }
   ],
   "source": [
    "import matplotlib.pyplot as plt\n",
    "import seaborn as sns\n",
    "\n",
    "sns.set(style=\"whitegrid\")\n",
    "results = labels_percentages_kf\n",
    "results_skf = labels_percentages_skf\n",
    "\n",
    "colors = ['#89D8CD', '#9F156480', '#FFBCF880', '#FFBCF880', '#FFBCF880']\n",
    "\n",
    "label_diffs = {i: {label: abs(results[i]['train'][label] - results[i]['valid'][label])\n",
    "                   for label in results[i]['train']} for i in results}\n",
    "label_diffs_skf = {i: {label: abs(results_skf[i]['train'][label] - results_skf[i]['valid'][label])\n",
    "                   for label in results_skf[i]['train']} for i in results_skf}\n",
    "\n",
    "diff_array = np.array([[label_diffs[iteration][label] for label in sorted(label_diffs[iteration])]\n",
    "                       for iteration in sorted(label_diffs)])\n",
    "mean_array = np.array([np.mean(diff_array[i, :]) for i in range(diff_array.shape[0])])\n",
    "\n",
    "diff_array_skf = np.array([[label_diffs_skf[iteration][label] for label in sorted(label_diffs_skf[iteration])]\n",
    "                       for iteration in sorted(label_diffs_skf)])\n",
    "mean_array_skf = np.array([np.mean(diff_array_skf[i, :]) for i in range(diff_array_skf.shape[0])])\n",
    "\n",
    "indices = np.arange(len(mean_array))\n",
    "\n",
    "# bar width\n",
    "width = 0.3\n",
    "\n",
    "fig, ax = plt.subplots()\n",
    "bars1 = ax.bar(indices - width/2, mean_array, width, label='K-fold', color='#C16FA3')\n",
    "bars2 = ax.bar(indices + width/2, mean_array_skf, width, label='Stratified K-fold', color='skyblue')\n",
    "\n",
    "plt.xlabel('k', fontsize=20)\n",
    "plt.ylabel('Mean diff (Train - Valid)', fontsize=20)\n",
    "ax.set_xticks(indices)\n",
    "ax.set_xticklabels([str(i) for i in indices])\n",
    "plt.xticks(fontsize=18)\n",
    "plt.yticks(fontsize=18)\n",
    "ax.legend()\n",
    "plt.tight_layout()\n",
    "plt.savefig('../plots/kf_skf_errors.pdf', dpi=400)\n",
    "plt.show()"
   ]
  },
  {
   "cell_type": "markdown",
   "id": "302a2fa4-3b51-4714-b3ee-1a02d27d718a",
   "metadata": {},
   "source": [
    "# Generate CSV files with new splits\n",
    "\n",
    "For optimization, we organise the dataset into CSV files which can be later used for generating split directories, given the original dataset direcory. There will be *k* such CSV files. \n",
    "\n",
    "In principle, one can use a single split, but for a better understanding of the model's performance, running model for multiple k folds and averaging results is a better approach. \n",
    "\n",
    "Each CSV file has the following columns:\n",
    "\n",
    "- `IMADE_ID` - an integer representing the image ID from the original json annottaions file\n",
    "- `IMAGE_PATH` - the corresponding image path\n",
    "- `SPLIT` - either **train** or **valid**"
   ]
  },
  {
   "cell_type": "code",
   "execution_count": 18,
   "id": "732df84b-f3aa-4264-ad5c-cc500fb02c4d",
   "metadata": {
    "scrolled": true
   },
   "outputs": [],
   "source": [
    "import csv\n",
    "\n",
    "def write_csv(skf_image_ids):\n",
    "    for mskf in skf_image_ids.keys():\n",
    "        with open(f'mskf_{mskf}.csv', 'w', newline='') as csvfile:\n",
    "            fieldnames = ['IMADE_ID', 'IMAGE_PATH', 'SPLIT']\n",
    "            writer = csv.DictWriter(csvfile, fieldnames=fieldnames)\n",
    "            writer.writeheader()\n",
    "            for split in skf_image_ids[mskf].keys():\n",
    "                for image in skf_image_ids[mskf][split]:\n",
    "                    image_id = image[0]\n",
    "                    filename = data_in['images'][image_id]['file_name']\n",
    "                    writer.writerow({\n",
    "                        'IMADE_ID': image_id,\n",
    "                        'IMAGE_PATH': os.path.join(dataset_path, dataset_name, 'train', filename),\n",
    "                        'SPLIT': split\n",
    "                    })\n",
    "\n",
    "write_csv(skf_image_ids)"
   ]
  },
  {
   "cell_type": "code",
   "execution_count": 21,
   "id": "3169fa9f-1532-4733-b489-7c9b458cd956",
   "metadata": {
    "scrolled": true
   },
   "outputs": [
    {
     "name": "stdout",
     "output_type": "stream",
     "text": [
      "Dataset split for mskf_0 was successful.\n",
      "Dataset split for mskf_1 was successful.\n",
      "Dataset split for mskf_2 was successful.\n",
      "Dataset split for mskf_3 was successful.\n"
     ]
    }
   ],
   "source": [
    "import pandas as pd\n",
    "\n",
    "# Generate split directories (COCO Instance Segmentation format)\n",
    "csv_files = ['mskf_0.csv', 'mskf_1.csv', 'mskf_2.csv', 'mskf_3.csv'] \n",
    "\n",
    "for idx, csv_file in enumerate(csv_files):\n",
    "    mskf = pd.read_csv(csv_file)\n",
    "    dataset_utils.create_directories_and_copy_files('.', data_in, mskf, idx)"
   ]
  },
  {
   "cell_type": "markdown",
   "id": "d190a8b4-6853-4d67-9b7e-782b5a90ec9d",
   "metadata": {},
   "source": [
    "# Convert COCO annotations to YOLO segmentation (Optional)"
   ]
  },
  {
   "cell_type": "code",
   "execution_count": 23,
   "id": "1cdb899b-9511-402f-801d-8c172792f3bc",
   "metadata": {
    "scrolled": true
   },
   "outputs": [
    {
     "name": "stdout",
     "output_type": "stream",
     "text": [
      "Processed 790 files.\n",
      "Processed 264 files.\n",
      "YAML file ./mskf_YOLO_0/data.yaml created and saved.\n",
      "Processed 790 files.\n",
      "Processed 264 files.\n",
      "YAML file ./mskf_YOLO_1/data.yaml created and saved.\n",
      "Processed 791 files.\n",
      "Processed 263 files.\n",
      "YAML file ./mskf_YOLO_2/data.yaml created and saved.\n",
      "Processed 791 files.\n",
      "Processed 263 files.\n",
      "YAML file ./mskf_YOLO_3/data.yaml created and saved.\n"
     ]
    }
   ],
   "source": [
    "# TODO: convert to YOLO segm, not bbox only\n",
    "from xami_dataset.xami_utils import coco_to_yolo_converter\n",
    "import yaml \n",
    "\n",
    "convert = True\n",
    "absolute_path = os.path.join(os.getcwd())\n",
    "\n",
    "if convert:\n",
    "\n",
    "    classes = [str(cat['name']) for cat in data_in['categories'] if 'artefacts' not in cat['name']]\n",
    "    for iter in range(n_splits):\n",
    "        for mode in ['train', 'valid']:\n",
    "            \n",
    "            input_path = f\"./mskf_{iter}/{mode}\"\n",
    "\n",
    "            # adding '/' at the end will give an error for the parent directory\n",
    "            output_path = f\"./mskf_YOLO_{iter}/{mode}\"\n",
    "            input_json_train = f\"_annotations.coco.json\"\n",
    "            converter = coco_to_yolo_converter.COCOToYOLOConverter(input_path, output_path, input_json_train, plot_yolo_masks=False)\n",
    "            converter.convert()\n",
    "            \n",
    "            # generate data.yaml\n",
    "            yaml_path = os.path.dirname(output_path)+f'/data.yaml'\n",
    "\n",
    "            if mode =='valid': # train and valid folder successfully created\n",
    "                yolo_data = {\n",
    "                    'names': classes,\n",
    "                    'nc': len(classes),\n",
    "                    'train': f'{os.path.join(absolute_path, os.path.dirname(output_path)).replace(\".\", \"\").replace(\"//\", \"/\")}/train/images',\n",
    "                    'val': f'{os.path.join(absolute_path, os.path.dirname(output_path)).replace(\".\", \"\").replace(\"//\", \"/\")}/valid/images'\n",
    "                }\n",
    "                \n",
    "                # Write the data to a YAML file\n",
    "                with open(yaml_path, 'w') as file:\n",
    "                    yaml.dump(yolo_data, file, default_flow_style=False)\n",
    "                \n",
    "                print(f\"YAML file {yaml_path} created and saved.\")"
   ]
  },
  {
   "cell_type": "markdown",
   "id": "1e0092b6-83ca-43de-86c3-e4e5be915020",
   "metadata": {},
   "source": [
    "### Check generated images and annotations"
   ]
  },
  {
   "cell_type": "code",
   "execution_count": null,
   "id": "809701da-a74e-4b82-8062-f3a6ac7ee6d8",
   "metadata": {
    "scrolled": true
   },
   "outputs": [],
   "source": [
    "category_mapping = { 0:('central-ring', (1,252,214)), \n",
    "            1:('other', (255,128,1)),\n",
    "            2:('read-out-streak', (20, 77, 158)), \n",
    "            3:('smoke-ring', (159,21,100)),\n",
    "            4:('star-loop', (255, 188, 248))}\n",
    "\n",
    "dataset_dir = './mskf_YOLO_0/train/'\n",
    "for filename in os.listdir(dataset_dir+'images/')[:20]:\n",
    "    print(filename)\n",
    "    image_path = dataset_dir+'images/'+filename\n",
    "    annotation_file = dataset_dir+'labels/'+filename.replace(\".jpg\", '.txt')\n",
    "    annotations = dataset_utils.read_yolo_annotations(annotation_file)\n",
    "    dataset_utils.plot_yolo_segmentations(image_path, annotations, category_mapping)"
   ]
  },
  {
   "cell_type": "code",
   "execution_count": null,
   "id": "82c2fb55-f3bd-4766-b05e-850424257a64",
   "metadata": {},
   "outputs": [],
   "source": [
    "with open('./mskf_0/train/_annotations.coco.json') as f:\n",
    "    data_0 = json.load(f)\n",
    "with open('./mskf_1/train/_annotations.coco.json') as f:\n",
    "    data_1 = json.load(f)\n",
    "with open('./mskf_2/train/_annotations.coco.json') as f:\n",
    "    data_2 = json.load(f)\n",
    "with open('./mskf_3/train/_annotations.coco.json') as f:\n",
    "    data_3 = json.load(f)"
   ]
  },
  {
   "cell_type": "code",
   "execution_count": null,
   "id": "a6da0d6a-3872-4407-bf63-765b3f3dbccc",
   "metadata": {
    "scrolled": true
   },
   "outputs": [],
   "source": [
    "[i for i in range(len(skf_image_ids[0]['train'])) if skf_image_ids[0]['train'][i] - [image['id'] for image in data_0['images']][i] != 0]"
   ]
  },
  {
   "cell_type": "code",
   "execution_count": null,
   "id": "be32e277-b8ec-4110-a01c-78a0b30ba2aa",
   "metadata": {
    "scrolled": true
   },
   "outputs": [],
   "source": [
    "[i for i in range(len(skf_image_ids[1]['train'])) if skf_image_ids[1]['train'][i] - [image['id'] for image in data_1['images']][i] != 0]"
   ]
  },
  {
   "cell_type": "code",
   "execution_count": null,
   "id": "92dbc017-764f-411a-94e4-7a0c92989046",
   "metadata": {
    "scrolled": true
   },
   "outputs": [],
   "source": [
    "[i for i in range(len(skf_image_ids[2]['train'])) if skf_image_ids[2]['train'][i] - [image['id'] for image in data_2['images']][i] != 0]"
   ]
  },
  {
   "cell_type": "code",
   "execution_count": null,
   "id": "3433e405-9b0d-483b-8c54-eb6989f6845c",
   "metadata": {
    "scrolled": true
   },
   "outputs": [],
   "source": [
    "[i for i in range(len(skf_image_ids[3]['train'])) if skf_image_ids[3]['train'][i] - [image['id'] for image in data_3['images']][i] != 0]"
   ]
  },
  {
   "cell_type": "code",
   "execution_count": null,
   "id": "44fc902b-bd02-4a9e-a487-8e2bb849cf66",
   "metadata": {},
   "outputs": [],
   "source": []
  },
  {
   "cell_type": "code",
   "execution_count": null,
   "id": "37eb6c65-a9da-4c2f-b25a-a15610754965",
   "metadata": {},
   "outputs": [],
   "source": []
  }
 ],
 "metadata": {
  "kernelspec": {
   "display_name": "xami_model_kernel_2",
   "language": "python",
   "name": "xami_model_env_2"
  },
  "language_info": {
   "codemirror_mode": {
    "name": "ipython",
    "version": 3
   },
   "file_extension": ".py",
   "mimetype": "text/x-python",
   "name": "python",
   "nbconvert_exporter": "python",
   "pygments_lexer": "ipython3",
   "version": "3.12.3"
  },
  "widgets": {
   "application/vnd.jupyter.widget-state+json": {
    "state": {},
    "version_major": 2,
    "version_minor": 0
   }
  }
 },
 "nbformat": 4,
 "nbformat_minor": 5
}
