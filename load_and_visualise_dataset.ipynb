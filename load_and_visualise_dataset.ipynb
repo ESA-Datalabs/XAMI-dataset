{
 "cells": [
  {
   "cell_type": "markdown",
   "id": "259a50df-42d1-497d-862c-bc6137f5c0ae",
   "metadata": {},
   "source": [
    "# Setup"
   ]
  },
  {
   "cell_type": "code",
   "execution_count": 1,
   "id": "9bc0cb9f-ae27-48cd-8562-8ed4f33d331d",
   "metadata": {
    "scrolled": true
   },
   "outputs": [],
   "source": [
    "from colorama import Fore, Style\n",
    "import json"
   ]
  },
  {
   "cell_type": "markdown",
   "id": "428bb1c7-36ba-4919-bc73-188f0f1aa697",
   "metadata": {},
   "source": [
    "# Dataset download"
   ]
  },
  {
   "cell_type": "code",
   "execution_count": null,
   "id": "da5cf756-1f2c-42bd-b81c-dab5f1b1e7d7",
   "metadata": {},
   "outputs": [],
   "source": [
    "from xami_dataset import XAMIDataset\n",
    "\n",
    "# Download the dataset\n",
    "xami_dataset = XAMIDataset(\n",
    "    repo_id=\"iulia-elisa/XAMI-dataset\", \n",
    "    dataset_name=\"xami_dataset\", \n",
    "    data_path='./dest_dir')"
   ]
  },
  {
   "cell_type": "markdown",
   "id": "c9b2c0ae-0d88-4bb1-a636-040f28b83fdf",
   "metadata": {},
   "source": [
    "# Dataset info"
   ]
  },
  {
   "cell_type": "markdown",
   "id": "79a03ee8",
   "metadata": {},
   "source": []
  },
  {
   "cell_type": "code",
   "execution_count": null,
   "id": "b93ed46b-d1ad-4193-8eb7-ac2dda791b42",
   "metadata": {
    "scrolled": true
   },
   "outputs": [],
   "source": [
    "splits = ['train', 'valid']\n",
    "\n",
    "for annotations_file in [xami_dataset.train_annotations_path, xami_dataset.valid_annotations_path]:\n",
    "    data = xami_dataset.get_data_from_json(annotations_file)\n",
    "    print(len(data['annotations']))\n",
    "    _, cat_names, _ = xami_dataset.get_categories(data)\n",
    "    print(annotations_file)\n",
    "    print(f\"{Fore.BLUE}Class categories in: {cat_names}{Style.RESET_ALL}\")\n",
    "    print(f\"{Fore.BLUE}Number of annotations: {len(data['annotations'])}{Style.RESET_ALL}\")\n",
    "    print(f\"{Fore.BLUE}Number of images in: {len(data['images'])}{Style.RESET_ALL}\")"
   ]
  },
  {
   "cell_type": "code",
   "execution_count": null,
   "id": "eb018f21-beae-48cb-9f63-1793b8f9a558",
   "metadata": {},
   "outputs": [],
   "source": [
    "categories_df = xami_dataset.get_category_table()\n",
    "display(categories_df) "
   ]
  },
  {
   "cell_type": "markdown",
   "id": "9bbe486b-117c-4545-b952-959b53979b16",
   "metadata": {},
   "source": [
    "We can also see how many images per filter we have."
   ]
  },
  {
   "cell_type": "code",
   "execution_count": null,
   "id": "1c74762d-3ead-4d24-8128-684cee708151",
   "metadata": {},
   "outputs": [],
   "source": [
    "filters_count = {'U': 0, 'V': 0, 'B': 0, 'W': 0, 'S': 0, 'M': 0, 'L': 0}\n",
    "filters_df = xami_dataset.get_filters_table(filters_count)\n",
    "display(filters_df)"
   ]
  },
  {
   "cell_type": "markdown",
   "id": "0eec287f-68b3-44e3-9c96-d906e70c472e",
   "metadata": {},
   "source": [
    "## Mask heatmap"
   ]
  },
  {
   "cell_type": "code",
   "execution_count": null,
   "id": "04c7fb5d-d0c7-482e-9c47-0d7e96c98e42",
   "metadata": {},
   "outputs": [],
   "source": [
    "xami_dataset.generate_heatmap(output_path='./plots/artefact_distributions.png')"
   ]
  },
  {
   "cell_type": "markdown",
   "id": "2fe7db86-980a-48ba-be72-a7b1575665e9",
   "metadata": {},
   "source": [
    "## Galactic coordinates plotting"
   ]
  },
  {
   "cell_type": "code",
   "execution_count": null,
   "id": "63dfd613-3c8c-4bb8-aa99-a1ce97a967df",
   "metadata": {},
   "outputs": [],
   "source": [
    "xami_dataset.generate_galactic_distribution_plot(\n",
    "    splits=['train', 'valid'], \n",
    "    obs_coords_file='./xami_utils/obs_info_1024_all.json', \n",
    "    output_path='dataset_galactic_distribution.png')"
   ]
  },
  {
   "cell_type": "markdown",
   "id": "7df23f0c-fc94-4c58-8db9-ebe34886333b",
   "metadata": {},
   "source": [
    "# (Optional) Split the dataset using the multi-Stratified K-fold CSV files"
   ]
  },
  {
   "cell_type": "markdown",
   "id": "4c6e5a1c-1343-495a-8c29-4cbb30733d6b",
   "metadata": {},
   "source": [
    "The CSV files have been previously generated using the multilabel Stratified K-Fold (**mskf**) technique in order to balance classes distributions across dataset splits. If you wish to generate different versions of dataset splits (e.g. with different *k*, different algorithm, etc...), you can do that in the `stratified_kfold.ipynb` notebook. We have provided these splits to make them a baseline as they are used for our metrics. \n",
    "\n",
    "Each CSV file has the following columns:\n",
    "\n",
    "- `IMADE_ID` - an integer representing the image ID from the original json annottaions file\n",
    "- `IMAGE_PATH` - the corresponding image path\n",
    "- `SPLIT` - either **train** or **valid**"
   ]
  },
  {
   "cell_type": "code",
   "execution_count": null,
   "id": "aa05bee1-bfad-43ea-ac9f-5de50fd264f3",
   "metadata": {},
   "outputs": [],
   "source": [
    "use_skf_splits = False"
   ]
  },
  {
   "cell_type": "code",
   "execution_count": null,
   "id": "7d2f09b6-7437-492a-b150-8f4f6511d9b9",
   "metadata": {
    "scrolled": true
   },
   "outputs": [],
   "source": [
    "if use_skf_splits:\n",
    "    import pandas as pd\n",
    "    from xami_utils import utils\n",
    "    \n",
    "    if use_skf_splits: # Whether to use the 4 split folds.\n",
    "        csv_files = ['mskf_0.csv', 'mskf_1.csv', 'mskf_2.csv', 'mskf_3.csv'] \n",
    "        \n",
    "        for idx, csv_file in enumerate(csv_files):\n",
    "            mskf = pd.read_csv(csv_file)\n",
    "            utils.create_directories_and_copy_files('path/to/dest', data_in, mskf, idx)"
   ]
  }
 ],
 "metadata": {
  "kernelspec": {
   "display_name": "xami_dataset_env2",
   "language": "python",
   "name": "xami_dataset_env"
  },
  "language_info": {
   "codemirror_mode": {
    "name": "ipython",
    "version": 3
   },
   "file_extension": ".py",
   "mimetype": "text/x-python",
   "name": "python",
   "nbconvert_exporter": "python",
   "pygments_lexer": "ipython3",
   "version": "3.12.3"
  },
  "widgets": {
   "application/vnd.jupyter.widget-state+json": {
    "state": {},
    "version_major": 2,
    "version_minor": 0
   }
  }
 },
 "nbformat": 4,
 "nbformat_minor": 5
}
