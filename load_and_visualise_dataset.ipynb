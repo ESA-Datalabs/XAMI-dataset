version https://git-lfs.github.com/spec/v1
oid sha256:cfd90e91aa9df0f7e65a33b6ec24b5c3ca30a7fca2f62dbe4ca958a80efb5d91
size 15765
