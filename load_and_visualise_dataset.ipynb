{
 "cells": [
  {
   "cell_type": "markdown",
   "id": "428bb1c7-36ba-4919-bc73-188f0f1aa697",
   "metadata": {},
   "source": [
    "# Dataset download"
   ]
  },
  {
   "cell_type": "code",
   "execution_count": null,
   "id": "da5cf756-1f2c-42bd-b81c-dab5f1b1e7d7",
   "metadata": {},
   "outputs": [],
   "source": [
    "from xami_dataset import XAMIDataset\n",
    "\n",
    "# Download the dataset from HuggingFace\n",
    "xami_dataset = XAMIDataset(\n",
    "    repo_id=\"iulia-elisa/XAMI-dataset\", \n",
    "    dataset_name=\"xami_dataset\", \n",
    "    dest_dir='./data')"
   ]
  },
  {
   "cell_type": "markdown",
   "id": "c9b2c0ae-0d88-4bb1-a636-040f28b83fdf",
   "metadata": {},
   "source": [
    "# Dataset info"
   ]
  },
  {
   "cell_type": "code",
   "execution_count": null,
   "id": "b93ed46b-d1ad-4193-8eb7-ac2dda791b42",
   "metadata": {
    "scrolled": true
   },
   "outputs": [],
   "source": [
    "from colorama import Fore, Style\n",
    "\n",
    "splits = ['train', 'valid']\n",
    "\n",
    "for annotations_file in [xami_dataset.train_annotations_path, xami_dataset.valid_annotations_path]:\n",
    "    data = xami_dataset.get_data_from_json(annotations_file)\n",
    "    print(len(data['annotations']))\n",
    "    _, cat_names, _ = xami_dataset.get_categories(data)\n",
    "    print(annotations_file)\n",
    "    print(f\"{Fore.BLUE}Class categories in: {cat_names}{Style.RESET_ALL}\")\n",
    "    print(f\"{Fore.BLUE}Number of annotations: {len(data['annotations'])}{Style.RESET_ALL}\")\n",
    "    print(f\"{Fore.BLUE}Number of images in: {len(data['images'])}{Style.RESET_ALL}\")"
   ]
  },
  {
   "cell_type": "code",
   "execution_count": null,
   "id": "eb018f21-beae-48cb-9f63-1793b8f9a558",
   "metadata": {},
   "outputs": [],
   "source": [
    "categories_df = xami_dataset.get_category_table()\n",
    "display(categories_df) "
   ]
  },
  {
   "cell_type": "markdown",
   "id": "9bbe486b-117c-4545-b952-959b53979b16",
   "metadata": {},
   "source": [
    "We can also see how many images per filter we have."
   ]
  },
  {
   "cell_type": "code",
   "execution_count": null,
   "id": "1c74762d-3ead-4d24-8128-684cee708151",
   "metadata": {},
   "outputs": [],
   "source": [
    "filters_count = {'U': 0, 'V': 0, 'B': 0, 'W': 0, 'S': 0, 'M': 0, 'L': 0}\n",
    "filters_df = xami_dataset.get_filters_table(filters_count)\n",
    "display(filters_df)"
   ]
  },
  {
   "cell_type": "markdown",
   "id": "0eec287f-68b3-44e3-9c96-d906e70c472e",
   "metadata": {},
   "source": [
    "## Mask heatmap"
   ]
  },
  {
   "cell_type": "code",
   "execution_count": null,
   "id": "04c7fb5d-d0c7-482e-9c47-0d7e96c98e42",
   "metadata": {},
   "outputs": [],
   "source": [
    "xami_dataset.generate_heatmap(output_path='./plots/artefact_distributions.png')"
   ]
  },
  {
   "cell_type": "markdown",
   "id": "2fe7db86-980a-48ba-be72-a7b1575665e9",
   "metadata": {},
   "source": [
    "## Galactic coordinates plotting"
   ]
  },
  {
   "cell_type": "code",
   "execution_count": null,
   "id": "63dfd613-3c8c-4bb8-aa99-a1ce97a967df",
   "metadata": {},
   "outputs": [],
   "source": [
    "xami_dataset.generate_galactic_distribution_plot(\n",
    "    splits=['train', 'valid'], \n",
    "    obs_coords_file='./xami_utils/obs_info_1024_all.json', \n",
    "    output_path='dataset_galactic_distribution.png')"
   ]
  },
  {
   "cell_type": "markdown",
   "id": "7df23f0c-fc94-4c58-8db9-ebe34886333b",
   "metadata": {},
   "source": [
    "# (Optional) Split the dataset using the multi-Stratified technique"
   ]
  },
  {
   "cell_type": "markdown",
   "id": "4c6e5a1c-1343-495a-8c29-4cbb30733d6b",
   "metadata": {},
   "source": [
    "In order to balance classes distributions across dataset splits, we use the multilabel Stratified K-Fold (**mskf**) technique. If you wish to generate different versions of dataset splits (e.g. with different *k*, different algorithm, etc...), please check the [stratified_kfold.ipynb](notebooks/stratified_kfold.ipynb) notebook."
   ]
  }
 ],
 "metadata": {
  "kernelspec": {
   "display_name": "env_py311",
   "language": "python",
   "name": "env_py311"
  },
  "language_info": {
   "codemirror_mode": {
    "name": "ipython",
    "version": 3
   },
   "file_extension": ".py",
   "mimetype": "text/x-python",
   "name": "python",
   "nbconvert_exporter": "python",
   "pygments_lexer": "ipython3",
   "version": "3.11.7"
  },
  "widgets": {
   "application/vnd.jupyter.widget-state+json": {
    "state": {
     "0ff8d683cc22457bb616516b0d603015": {
      "model_module": "@jupyter-widgets/base",
      "model_module_version": "2.0.0",
      "model_name": "LayoutModel",
      "state": {}
     },
     "1dbb54c5eaec45258093b6f9a4894a72": {
      "model_module": "@jupyter-widgets/base",
      "model_module_version": "2.0.0",
      "model_name": "LayoutModel",
      "state": {}
     },
     "1ffff9b5c95b499f89838f56550c5609": {
      "model_module": "@jupyter-widgets/controls",
      "model_module_version": "2.0.0",
      "model_name": "FloatProgressModel",
      "state": {
       "bar_style": "success",
       "layout": "IPY_MODEL_0ff8d683cc22457bb616516b0d603015",
       "max": 50894418,
       "style": "IPY_MODEL_bf6edeba84f748df9446a7ac9c851c6f",
       "value": 50894418
      }
     },
     "28ce86d610f7471cb93d083e19f6b6a1": {
      "model_module": "@jupyter-widgets/controls",
      "model_module_version": "2.0.0",
      "model_name": "FloatProgressModel",
      "state": {
       "bar_style": "success",
       "layout": "IPY_MODEL_85ab35beec6a438da5bcc237077b1f35",
       "max": 50894418,
       "style": "IPY_MODEL_e3a17becf6974377836bc1e47a6d59cd",
       "value": 50894418
      }
     },
     "2bc9ea98561e42ff83365efe94205184": {
      "model_module": "@jupyter-widgets/controls",
      "model_module_version": "2.0.0",
      "model_name": "HBoxModel",
      "state": {
       "children": [
        "IPY_MODEL_c04aa2e0f6a640bb8fa74852eda4b6cf",
        "IPY_MODEL_1ffff9b5c95b499f89838f56550c5609",
        "IPY_MODEL_eb3fbbeb23a84d3ab5de27b39ca67425"
       ],
       "layout": "IPY_MODEL_1dbb54c5eaec45258093b6f9a4894a72"
      }
     },
     "362eb4701fac4c0986de2bba960733af": {
      "model_module": "@jupyter-widgets/controls",
      "model_module_version": "2.0.0",
      "model_name": "HTMLModel",
      "state": {
       "layout": "IPY_MODEL_b22a5ed31ae94ecf820ff895dd173294",
       "style": "IPY_MODEL_37238bcfbc294b7a95716c254e191312",
       "value": " 50.9M/50.9M [00:00&lt;00:00, 61.7MB/s]"
      }
     },
     "37238bcfbc294b7a95716c254e191312": {
      "model_module": "@jupyter-widgets/controls",
      "model_module_version": "2.0.0",
      "model_name": "HTMLStyleModel",
      "state": {
       "description_width": "",
       "font_size": null,
       "text_color": null
      }
     },
     "3950e79916bf46ec9f408842bdf7929b": {
      "model_module": "@jupyter-widgets/controls",
      "model_module_version": "2.0.0",
      "model_name": "HTMLStyleModel",
      "state": {
       "description_width": "",
       "font_size": null,
       "text_color": null
      }
     },
     "731509fb830f4d7791e0a9bd739a4061": {
      "model_module": "@jupyter-widgets/base",
      "model_module_version": "2.0.0",
      "model_name": "LayoutModel",
      "state": {}
     },
     "7d5b2904f96140e596ca1f57d330321f": {
      "model_module": "@jupyter-widgets/controls",
      "model_module_version": "2.0.0",
      "model_name": "HTMLStyleModel",
      "state": {
       "description_width": "",
       "font_size": null,
       "text_color": null
      }
     },
     "85ab35beec6a438da5bcc237077b1f35": {
      "model_module": "@jupyter-widgets/base",
      "model_module_version": "2.0.0",
      "model_name": "LayoutModel",
      "state": {}
     },
     "ad590fc689a54383907e26329c2f5b9d": {
      "model_module": "@jupyter-widgets/controls",
      "model_module_version": "2.0.0",
      "model_name": "HTMLModel",
      "state": {
       "layout": "IPY_MODEL_f893c615ce934b4d9fc50f3f3b0be580",
       "style": "IPY_MODEL_7d5b2904f96140e596ca1f57d330321f",
       "value": "xami_dataset.zip: 100%"
      }
     },
     "b22a5ed31ae94ecf820ff895dd173294": {
      "model_module": "@jupyter-widgets/base",
      "model_module_version": "2.0.0",
      "model_name": "LayoutModel",
      "state": {}
     },
     "bf6edeba84f748df9446a7ac9c851c6f": {
      "model_module": "@jupyter-widgets/controls",
      "model_module_version": "2.0.0",
      "model_name": "ProgressStyleModel",
      "state": {
       "description_width": ""
      }
     },
     "c04aa2e0f6a640bb8fa74852eda4b6cf": {
      "model_module": "@jupyter-widgets/controls",
      "model_module_version": "2.0.0",
      "model_name": "HTMLModel",
      "state": {
       "layout": "IPY_MODEL_ed7e704bc0c34d90a7ae05aa1dfea6fd",
       "style": "IPY_MODEL_e3d5db55c3c4404c9724f1d62424bd06",
       "value": "xami_dataset.zip: 100%"
      }
     },
     "cf0335a9dc7f4eac8bc0d357c558872e": {
      "model_module": "@jupyter-widgets/base",
      "model_module_version": "2.0.0",
      "model_name": "LayoutModel",
      "state": {}
     },
     "e3a17becf6974377836bc1e47a6d59cd": {
      "model_module": "@jupyter-widgets/controls",
      "model_module_version": "2.0.0",
      "model_name": "ProgressStyleModel",
      "state": {
       "description_width": ""
      }
     },
     "e3d5db55c3c4404c9724f1d62424bd06": {
      "model_module": "@jupyter-widgets/controls",
      "model_module_version": "2.0.0",
      "model_name": "HTMLStyleModel",
      "state": {
       "description_width": "",
       "font_size": null,
       "text_color": null
      }
     },
     "eb3fbbeb23a84d3ab5de27b39ca67425": {
      "model_module": "@jupyter-widgets/controls",
      "model_module_version": "2.0.0",
      "model_name": "HTMLModel",
      "state": {
       "layout": "IPY_MODEL_731509fb830f4d7791e0a9bd739a4061",
       "style": "IPY_MODEL_3950e79916bf46ec9f408842bdf7929b",
       "value": " 50.9M/50.9M [00:01&lt;00:00, 50.7MB/s]"
      }
     },
     "ed7e704bc0c34d90a7ae05aa1dfea6fd": {
      "model_module": "@jupyter-widgets/base",
      "model_module_version": "2.0.0",
      "model_name": "LayoutModel",
      "state": {}
     },
     "f5c654649fd04662921bbc7c8ce32e5f": {
      "model_module": "@jupyter-widgets/controls",
      "model_module_version": "2.0.0",
      "model_name": "HBoxModel",
      "state": {
       "children": [
        "IPY_MODEL_ad590fc689a54383907e26329c2f5b9d",
        "IPY_MODEL_28ce86d610f7471cb93d083e19f6b6a1",
        "IPY_MODEL_362eb4701fac4c0986de2bba960733af"
       ],
       "layout": "IPY_MODEL_cf0335a9dc7f4eac8bc0d357c558872e"
      }
     },
     "f893c615ce934b4d9fc50f3f3b0be580": {
      "model_module": "@jupyter-widgets/base",
      "model_module_version": "2.0.0",
      "model_name": "LayoutModel",
      "state": {}
     }
    },
    "version_major": 2,
    "version_minor": 0
   }
  }
 },
 "nbformat": 4,
 "nbformat_minor": 5
}
