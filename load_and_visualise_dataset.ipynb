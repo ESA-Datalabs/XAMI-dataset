version https://git-lfs.github.com/spec/v1
oid sha256:4877ba8cc3cbf22884d8e0a378268697c57592fa60447eaa301840769f2707dd
size 326167
