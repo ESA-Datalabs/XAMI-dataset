version https://git-lfs.github.com/spec/v1
oid sha256:3e3957df8adfcf43e88e7a2676f9930a12a77727831f0da2e4ad4c3b2cc6832b
size 2887651
